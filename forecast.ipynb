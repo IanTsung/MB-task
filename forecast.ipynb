{
 "cells": [
  {
   "cell_type": "code",
   "execution_count": 1,
   "metadata": {},
   "outputs": [
    {
     "name": "stderr",
     "output_type": "stream",
     "text": [
      "C:\\Users\\AS\\AppData\\Local\\Temp\\ipykernel_11696\\2820250501.py:13: FutureWarning: DataFrame.fillna with 'method' is deprecated and will raise in a future version. Use obj.ffill() or obj.bfill() instead.\n",
      "  data.fillna(method='ffill', inplace=True)\n"
     ]
    }
   ],
   "source": [
    "import pandas as pd\n",
    "\n",
    "data = pd.read_csv('forecast_history.csv')\n",
    "\n",
    "data.drop(columns=[data.columns[0]], inplace=True)\n",
    "\n",
    "data['Median house price'] = pd.to_numeric(data['Median house price'], errors='coerce')\n",
    "\n",
    "for column in data.columns[1:]:  \n",
    "    data[column] = data[column].str.replace('%', '')  # Remove percentage signs\n",
    "    data[column] = pd.to_numeric(data[column], errors='coerce')  # Convert to numeric\n",
    "\n",
    "data.fillna(method='ffill', inplace=True) "
   ]
  },
  {
   "cell_type": "code",
   "execution_count": 2,
   "metadata": {},
   "outputs": [],
   "source": [
    "data['Actual Change'] = data['Median house price'].pct_change() * 100\n",
    "\n",
    "forecast_columns = data.columns[2:]  \n",
    "for column in forecast_columns:\n",
    "    data[column + ' Error'] = abs(data['Actual Change'] - data[column])\n",
    "\n",
    "forecast_accuracy = {col: data[col + ' Error'].mean() for col in forecast_columns}"
   ]
  },
  {
   "cell_type": "code",
   "execution_count": 3,
   "metadata": {},
   "outputs": [
    {
     "name": "stdout",
     "output_type": "stream",
     "text": [
      "{'Joe Bloggs: 2 year forecast': 133.02399208429082, 'Harry Spent: 5 year forecast': 71.45278930425526, 'Actual Change': 0.0}\n"
     ]
    }
   ],
   "source": [
    "print(forecast_accuracy)\n",
    "\n",
    "data.to_csv('processed_forecast_data.csv', index=False)"
   ]
  }
 ],
 "metadata": {
  "kernelspec": {
   "display_name": "Python 3",
   "language": "python",
   "name": "python3"
  },
  "language_info": {
   "codemirror_mode": {
    "name": "ipython",
    "version": 3
   },
   "file_extension": ".py",
   "mimetype": "text/x-python",
   "name": "python",
   "nbconvert_exporter": "python",
   "pygments_lexer": "ipython3",
   "version": "3.10.11"
  }
 },
 "nbformat": 4,
 "nbformat_minor": 2
}
